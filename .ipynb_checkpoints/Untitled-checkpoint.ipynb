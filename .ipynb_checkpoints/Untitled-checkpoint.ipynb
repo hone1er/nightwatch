{
 "cells": [
  {
   "cell_type": "code",
   "execution_count": 5,
   "metadata": {},
   "outputs": [
    {
     "data": {
      "image/png": "[encoded data removed]",
      "text/plain": [
       "<Figure size 432x288 with 1 Axes>"
      ]
     },
     "metadata": {
      "needs_background": "light"
     },
     "output_type": "display_data"
    }
   ],
   "source": [
    "%matplotlib inline\n",
    "import pandas as pd\n",
    "import os\n",
    "from matplotlib import pyplot as plt\n",
    "\n",
    "# a list to hold all instances where Arya is Female in .txt files. Loop through this list to create scatter plot\n",
    "arya = []\n",
    "# go through each file in 'names' folder, if 'yob' is in the filename, put the file in a DF called namedf\n",
    "for filename in os.listdir(\"Resources/names\"):\n",
    "    if 'yob' in filename:\n",
    "        name = pd.read_csv(f\"Resources/names/{filename}\",header=None)\n",
    "        namedf = pd.DataFrame(name)\n",
    "# add a year column to the DF based on the filename(ex. add 1970 to year column for yob1970.txt)\n",
    "        namedf[\"year\"] = os.path.splitext(filename)[0][-4:]\n",
    "# find the name 'Arya' in the current file where gender is 'F' and append to arya's list\n",
    "        arya.append((namedf[(namedf[0]==\"Arya\") & (namedf[1] == \"F\")]))\n",
    "# loop through arya and plot each point  \n",
    "\n",
    "for x in range(len(arya)):\n",
    "    plt.plot(arya[x]['year'],arya[x][2], marker='o', c='b')\n",
    "# rotate years, add title and x/y labels    \n",
    "plt.xticks(rotation=90)\n",
    "plt.title(\"Popularity of Name: Arya\")\n",
    "plt.xlabel(\"Year\")\n",
    "plt.ylabel(\"Name Count\")\n",
    "plt.grid()\n",
    "plt.show()"
   ]
  },
  {
   "cell_type": "code",
   "execution_count": 4,
   "metadata": {},
   "outputs": [
    {
     "data": {
      "text/plain": [
       "[0.0,\n",
       " 0.0,\n",
       " 0.0,\n",
       " 0.0,\n",
       " 0.0,\n",
       " 0.0,\n",
       " 0.0,\n",
       " 0.0,\n",
       " 0.0,\n",
       " 0.0,\n",
       " 0.0,\n",
       " 0.0,\n",
       " 0.0,\n",
       " 0.0,\n",
       " 0.0,\n",
       " 0.0,\n",
       " 0.00014099198009418827,\n",
       " 0.0,\n",
       " 0.00014099198009418827,\n",
       " 0.0,\n",
       " 0.00016919037611302592,\n",
       " 0.0,\n",
       " 0.0001973887721318636,\n",
       " 0.0,\n",
       " 0.0,\n",
       " 0.0,\n",
       " 0.0003101823562072142,\n",
       " 0.0003665791482448895,\n",
       " 0.0007049599004709414,\n",
       " 0.00045117433630140257,\n",
       " 0.0009587454646404803,\n",
       " 0.0010151422566781556,\n",
       " 0.0015227133850172336,\n",
       " 0.0020020861173374736,\n",
       " 0.0033838075222605186,\n",
       " 0.003186418750128655,\n",
       " 0.004483544966995188,\n",
       " 0.005611480807748694,\n",
       " 0.0057806711838617195,\n",
       " 0.006654821460445688,\n",
       " 0.00769816211314268,\n",
       " 0.010912779259290172,\n",
       " 0.02140258257829778,\n",
       " 0.03208977466943725,\n",
       " 0.04379210901725488,\n",
       " 0.04627356786691259,\n",
       " 0.05343596045569736,\n",
       " 0.060795741816613985]"
      ]
     },
     "execution_count": 4,
     "metadata": {},
     "output_type": "execute_result"
    }
   ],
   "source": [
    "# list with the total percent of people born named Arya for the year\n",
    "percent_of_total = [(arya[x][2][(arya[x][0]==\"Arya\") & (arya[x][1] == \"F\")]).sum()/namedf[2].sum()*100 for x in range(len(arya))]\n",
    "percent_of_total"
   ]
  },
  {
   "cell_type": "code",
   "execution_count": null,
   "metadata": {},
   "outputs": [],
   "source": []
  }
 ],
 "metadata": {
  "kernelspec": {
   "display_name": "Python 3",
   "language": "python",
   "name": "python3"
  },
  "language_info": {
   "codemirror_mode": {
    "name": "ipython",
    "version": 3
   },
   "file_extension": ".py",
   "mimetype": "text/x-python",
   "name": "python",
   "nbconvert_exporter": "python",
   "pygments_lexer": "ipython3",
   "version": "3.6.8"
  }
 },
 "nbformat": 4,
 "nbformat_minor": 2
}
