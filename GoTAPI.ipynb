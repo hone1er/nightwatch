{
 "cells": [
  {
   "cell_type": "code",
   "execution_count": 1,
   "metadata": {},
   "outputs": [],
   "source": [
    "import json\n",
    "import requests"
   ]
  },
  {
   "cell_type": "markdown",
   "metadata": {},
   "source": [
    "Name List/UrL Number:\n",
    "\n",
    "male:\n",
    "Benjen Stark 1 - 182\n",
    "Bran Stark 2 - 208\n",
    "Doran Martell 4 - 326\n",
    "Eddard Stark 5 - 339\n",
    "Jon Snow 9 - 583\n",
    "\n",
    "Female:\n",
    "Arya Stark 1 - 148\n",
    "Arienne Martel 2- 130\n",
    "Asha Greyjoy 3 - 150\n",
    "Brienne of Tarth 4 - 216\n",
    "Cersei Lannister 6 - 238"
   ]
  },
  {
   "cell_type": "code",
   "execution_count": 20,
   "metadata": {
    "scrolled": true
   },
   "outputs": [],
   "source": [
    "url = \"https://anapioficeandfire.com/api/\"\n",
    "\n",
    "#Possible url titles:\n",
    "## - /Books/\n",
    "## - /Characters/\n",
    "## - /Houses/\n",
    "\n",
    "#request Copy/paste 2 lines into new blocks\n",
    "\n",
    "response = requests.get(url+\"Characters/\").json()\n",
    "print(json.dumps(response, indent=4, sort_keys=True))\n",
    "\n"
   ]
  }
 ],
 "metadata": {
  "kernelspec": {
   "display_name": "Python 3",
   "language": "python",
   "name": "python3"
  },
  "language_info": {
   "codemirror_mode": {
    "name": "ipython",
    "version": 3
   },
   "file_extension": ".py",
   "mimetype": "text/x-python",
   "name": "python",
   "nbconvert_exporter": "python",
   "pygments_lexer": "ipython3",
   "version": "3.7.1"
  }
 },
 "nbformat": 4,
 "nbformat_minor": 2
}
