{
 "cells": [
  {
   "cell_type": "code",
   "execution_count": 1,
   "metadata": {},
   "outputs": [],
   "source": [
    "import json\n",
    "import requests"
   ]
  },
  {
   "cell_type": "code",
   "execution_count": 18,
   "metadata": {},
   "outputs": [
    {
     "name": "stdout",
     "output_type": "stream",
     "text": [
      "{\n",
      "    \"aliases\": [\n",
      "        \"Lord Snow\",\n",
      "        \"Ned Stark's Bastard\",\n",
      "        \"The Snow of Winterfell\",\n",
      "        \"The Crow-Come-Over\",\n",
      "        \"The 998th Lord Commander of the Night's Watch\",\n",
      "        \"The Bastard of Winterfell\",\n",
      "        \"The Black Bastard of the Wall\",\n",
      "        \"Lord Crow\"\n",
      "    ],\n",
      "    \"allegiances\": [\n",
      "        \"https://anapioficeandfire.com/api/houses/362\"\n",
      "    ],\n",
      "    \"books\": [\n",
      "        \"https://anapioficeandfire.com/api/books/5\"\n",
      "    ],\n",
      "    \"born\": \"In 283 AC\",\n",
      "    \"culture\": \"Northmen\",\n",
      "    \"died\": \"\",\n",
      "    \"father\": \"\",\n",
      "    \"gender\": \"Male\",\n",
      "    \"mother\": \"\",\n",
      "    \"name\": \"Jon Snow\",\n",
      "    \"playedBy\": [\n",
      "        \"Kit Harington\"\n",
      "    ],\n",
      "    \"povBooks\": [\n",
      "        \"https://anapioficeandfire.com/api/books/1\",\n",
      "        \"https://anapioficeandfire.com/api/books/2\",\n",
      "        \"https://anapioficeandfire.com/api/books/3\",\n",
      "        \"https://anapioficeandfire.com/api/books/8\"\n",
      "    ],\n",
      "    \"spouse\": \"\",\n",
      "    \"titles\": [\n",
      "        \"Lord Commander of the Night's Watch\"\n",
      "    ],\n",
      "    \"tvSeries\": [\n",
      "        \"Season 1\",\n",
      "        \"Season 2\",\n",
      "        \"Season 3\",\n",
      "        \"Season 4\",\n",
      "        \"Season 5\",\n",
      "        \"Season 6\"\n",
      "    ],\n",
      "    \"url\": \"https://anapioficeandfire.com/api/characters/583\"\n",
      "}\n"
     ]
    }
   ],
   "source": [
    "url = \"https://anapioficeandfire.com/api/\"\n",
    "\n",
    "#Possible url titles:\n",
    "## - /Books/\n",
    "## - /Characters/\n",
    "## - /Houses/\n",
    "\n",
    "#request\n",
    "response = requests.get(url+\"Characters/583\").json()\n",
    "print(json.dumps(response, indent=4, sort_keys=True))"
   ]
  },
  {
   "cell_type": "code",
   "execution_count": null,
   "metadata": {},
   "outputs": [],
   "source": []
  }
 ],
 "metadata": {
  "kernelspec": {
   "display_name": "Python 3",
   "language": "python",
   "name": "python3"
  },
  "language_info": {
   "codemirror_mode": {
    "name": "ipython",
    "version": 3
   },
   "file_extension": ".py",
   "mimetype": "text/x-python",
   "name": "python",
   "nbconvert_exporter": "python",
   "pygments_lexer": "ipython3",
   "version": "3.7.1"
  }
 },
 "nbformat": 4,
 "nbformat_minor": 2
}
