{
 "cells": [
  {
   "cell_type": "code",
   "execution_count": 1,
   "metadata": {},
   "outputs": [],
   "source": [
    "import json\n",
    "import requests"
   ]
  },
  {
   "cell_type": "code",
   "execution_count": 7,
   "metadata": {},
   "outputs": [
    {
     "name": "stdout",
     "output_type": "stream",
     "text": [
      "{\n",
      "    \"books\": \"https://anapioficeandfire.com/api/books\",\n",
      "    \"characters\": \"https://anapioficeandfire.com/api/characters\",\n",
      "    \"houses\": \"https://anapioficeandfire.com/api/houses\"\n",
      "}\n"
     ]
    }
   ],
   "source": [
    "url = \"https://anapioficeandfire.com/api/\"\n",
    "\n",
    "#Possible url titles:\n",
    "## - /Books/\n",
    "## - /Characters/\n",
    "## - /Houses/\n",
    "\n",
    "#request\n",
    "response = requests.get(url).json()\n",
    "print(json.dumps(response, indent=4, sort_keys=True))"
   ]
  },
  {
   "cell_type": "code",
   "execution_count": null,
   "metadata": {},
   "outputs": [],
   "source": []
  }
 ],
 "metadata": {
  "kernelspec": {
   "display_name": "Python 3",
   "language": "python",
   "name": "python3"
  },
  "language_info": {
   "codemirror_mode": {
    "name": "ipython",
    "version": 3
   },
   "file_extension": ".py",
   "mimetype": "text/x-python",
   "name": "python",
   "nbconvert_exporter": "python",
   "pygments_lexer": "ipython3",
   "version": "3.7.1"
  }
 },
 "nbformat": 4,
 "nbformat_minor": 2
}
