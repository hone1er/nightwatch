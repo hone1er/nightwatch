{
 "cells": [
  {
   "cell_type": "code",
   "execution_count": 3,
   "metadata": {},
   "outputs": [
    {
     "data": {
      "image/png": "[encoded data removed]",
      "text/plain": [
       "<Figure size 432x288 with 1 Axes>"
      ]
     },
     "metadata": {
      "needs_background": "light"
     },
     "output_type": "display_data"
    }
   ],
   "source": [
    "import pandas as pd\n",
    "import os\n",
    "from matplotlib import pyplot as plt\n",
    "names = [\"Arya\", \"Sansa\"]\n",
    "arya = []\n",
    "for filename in os.listdir(\"Resources/names\"):\n",
    "    if 'yob' in filename:\n",
    "        name = pd.read_csv(f\"Resources/names/{filename}\",header=None)\n",
    "        name[\"year\"] = os.path.splitext(filename)[0][-4:]\n",
    "        \n",
    "        arya.append((name[(name[0]==\"Arya\") & (name[1] == \"F\")]))\n",
    "    \n",
    "for x in range(len(arya)):\n",
    "    plt.scatter(arya[x]['year'],arya[x][2], c='b')\n",
    "    plt.xticks(rotation=90)\n",
    "    plt.title(\"Popularity of Name: Arya\")\n",
    "    plt.xlabel(\"Year\")\n",
    "    plt.ylabel(\"Name Count\")\n"
   ]
  },
  {
   "cell_type": "code",
   "execution_count": 16,
   "metadata": {},
   "outputs": [
    {
     "name": "stdout",
     "output_type": "stream",
     "text": [
      "0.0\n",
      "0.0\n",
      "0.0\n",
      "0.0\n",
      "0.0\n",
      "0.0\n",
      "0.0\n",
      "0.0\n",
      "0.0\n",
      "0.0\n",
      "0.0\n",
      "0.0\n",
      "0.0\n",
      "0.0\n",
      "0.0\n",
      "0.0\n",
      "0.00014099198009418827\n",
      "0.0\n",
      "0.00014099198009418827\n",
      "0.0\n",
      "0.00016919037611302592\n",
      "0.0\n",
      "0.0001973887721318636\n",
      "0.0\n",
      "0.0\n",
      "0.0\n",
      "0.0003101823562072142\n",
      "0.0003665791482448895\n",
      "0.0007049599004709414\n",
      "0.00045117433630140257\n",
      "0.0009587454646404803\n",
      "0.0010151422566781556\n",
      "0.0015227133850172336\n",
      "0.0020020861173374736\n",
      "0.0033838075222605186\n",
      "0.003186418750128655\n",
      "0.004483544966995188\n",
      "0.005611480807748694\n",
      "0.0057806711838617195\n",
      "0.006654821460445688\n",
      "0.00769816211314268\n",
      "0.010912779259290172\n",
      "0.02140258257829778\n",
      "0.03208977466943725\n",
      "0.04379210901725488\n",
      "0.04627356786691259\n",
      "0.05343596045569736\n",
      "0.060795741816613985\n"
     ]
    }
   ],
   "source": [
    "for x in range(len(arya)):\n",
    "    print((arya[x][2][(arya[x][0]==\"Arya\") & (arya[x][1] == \"F\")]).sum()/name[2].sum()*100)\n",
    "    "
   ]
  },
  {
   "cell_type": "code",
   "execution_count": null,
   "metadata": {},
   "outputs": [],
   "source": []
  }
 ],
 "metadata": {
  "kernelspec": {
   "display_name": "Python 3",
   "language": "python",
   "name": "python3"
  },
  "language_info": {
   "codemirror_mode": {
    "name": "ipython",
    "version": 3
   },
   "file_extension": ".py",
   "mimetype": "text/x-python",
   "name": "python",
   "nbconvert_exporter": "python",
   "pygments_lexer": "ipython3",
   "version": "3.6.8"
  }
 },
 "nbformat": 4,
 "nbformat_minor": 2
}
