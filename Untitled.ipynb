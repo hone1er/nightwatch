{
 "cells": [
  {
   "cell_type": "code",
   "execution_count": null,
   "metadata": {},
   "outputs": [],
   "source": [
    "%matplotlib inline\n",
    "import pandas as pd\n",
    "import os\n",
    "from matplotlib import pyplot as plt\n",
    "import requests\n",
    "\n",
    "\n",
    "# a list to hold all instances where Arya is Female in .txt files. Loop through this list to create scatter plot\n",
    "# add name: gender to got_names and name: color to colors and it will add them to the scatter plot\n",
    "got_names = {\"Arya\":\"F\",\"Jon\":\"M\",\"Sansa\":\"F\",\"Daenerys\":\"F\",\"Joe\":\"M\"}\n",
    "colors = {\"Arya\":\"b\",\"Jon\":\"r\",\"Sansa\":\"g\",\"Daenerys\":\"y\",\"Joe\":\"c\"}\n",
    "arya = []\n",
    "jon = []\n",
    "# go through each file in 'names' folder, if 'yob20' is in the filename, put the file in a DF called namedf\n",
    "for filename in os.listdir(\"Resources/names\"):\n",
    "    if 'yob20' in filename:\n",
    "        name = pd.read_csv(f\"Resources/names/{filename}\",header=None)\n",
    "        namedf = pd.DataFrame(name)\n",
    "# add a year column to the DF based on the filename(ex. add 1970 to year column for yob1970.txt)\n",
    "        namedf[\"year\"] = os.path.splitext(filename)[0][-4:]\n",
    "# find the name 'Arya' in the current file where gender is 'F' and plot the point\n",
    "        for name, gender in got_names.items():\n",
    "            \n",
    "            arya_year = namedf[(namedf[0]==f\"{name}\") & (namedf[1] == f\"{gender}\")]['year']\n",
    "            arya_count = namedf[(namedf[0]==f\"{name}\") & (namedf[1] == f\"{gender}\")][2]\n",
    "            plt.scatter(arya_year,arya_count,c=f\"{colors[name]}\")\n",
    "\n",
    "        \n",
    "        arya.append(namedf[(namedf[0]==\"Arya\") & (namedf[1] == \"F\")])\n",
    "        jon.append(namedf[(namedf[0]==\"Jon\") & (namedf[1] == \"M\")])\n",
    "\n",
    "\n",
    "handles = [plt.scatter([],\n",
    "                     [],\n",
    "                     marker=\"o\",\n",
    "                     color=v,\n",
    "                     label=k) for k,v in colors.items() ]\n",
    "plt.legend(handles=handles,\n",
    "           labels=colors.keys(),\n",
    "           markerscale=.8)\n",
    "# rotate years, add title and x/y labels    \n",
    "plt.xticks(rotation=90)\n",
    "plt.title(\"Popularity of Name: Arya\")\n",
    "plt.xlabel(\"Year\")\n",
    "plt.ylabel(\"Name Count\")\n",
    "plt.grid()\n",
    "plt.show()"
   ]
  },
  {
   "cell_type": "code",
   "execution_count": null,
   "metadata": {},
   "outputs": [],
   "source": [
    "# list with the total percent of people born named Arya for the year\n",
    "percent_of_total = [(arya[x][2][(arya[x][0]==\"Arya\") & (arya[x][1] == \"F\")]).sum()/namedf[2].sum()*100 for x in range(len(arya))]\n",
    "percent_of_total"
   ]
  }
 ],
 "metadata": {
  "kernelspec": {
   "display_name": "Python 3",
   "language": "python",
   "name": "python3"
  },
  "language_info": {
   "codemirror_mode": {
    "name": "ipython",
    "version": 3
   },
   "file_extension": ".py",
   "mimetype": "text/x-python",
   "name": "python",
   "nbconvert_exporter": "python",
   "pygments_lexer": "ipython3",
   "version": "3.6.8"
  }
 },
 "nbformat": 4,
 "nbformat_minor": 2
}
