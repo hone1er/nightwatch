{
 "cells": [
  {
   "cell_type": "code",
   "execution_count": null,
   "metadata": {},
   "outputs": [],
   "source": [
    "import pandas as pd\n",
    "import os\n",
    "from matplotlib import pyplot as plt\n",
    "\n",
    "\n",
    "arya = []\n",
    "\n",
    "for filename in os.listdir(\"Resources/names\"):\n",
    "    if 'yob' in filename:\n",
    "        name = pd.read_csv(f\"Resources/names/{filename}\",header=None)\n",
    "        name[\"year\"] = os.path.splitext(filename)[0][-4:]\n",
    "        \n",
    "        arya.append((name[(name[0]==\"Arya\") & (name[1] == \"F\")]))\n",
    "    \n",
    "for x in range(len(arya)):\n",
    "    plt.scatter(arya[x]['year'],arya[x][2], c='b')\n",
    "    plt.xticks(rotation=90)\n",
    "    plt.title(\"Popularity of Name: Arya\")\n",
    "    plt.xlabel(\"Year\")\n",
    "    plt.ylabel(\"Name Count\")"
   ]
  },
  {
   "cell_type": "code",
   "execution_count": null,
   "metadata": {},
   "outputs": [],
   "source": [
    "percent_of_total = [(arya[x][2][(arya[x][0]==\"Arya\") & (arya[x][1] == \"F\")]).sum()/name[2].sum()*100 for x in range(len(arya))]\n",
    "percent_of_total"
   ]
  },
  {
   "cell_type": "code",
   "execution_count": null,
   "metadata": {},
   "outputs": [],
   "source": []
  }
 ],
 "metadata": {
  "kernelspec": {
   "display_name": "Python 3",
   "language": "python",
   "name": "python3"
  },
  "language_info": {
   "codemirror_mode": {
    "name": "ipython",
    "version": 3
   },
   "file_extension": ".py",
   "mimetype": "text/x-python",
   "name": "python",
   "nbconvert_exporter": "python",
   "pygments_lexer": "ipython3",
   "version": "3.6.8"
  }
 },
 "nbformat": 4,
 "nbformat_minor": 2
}
