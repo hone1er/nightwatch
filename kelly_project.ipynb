{
 "cells": [
  {
   "cell_type": "code",
   "execution_count": 1,
   "metadata": {},
   "outputs": [
    {
     "name": "stdout",
     "output_type": "stream",
     "text": [
      "['.ipynb_checkpoints', 'NationalReadMe.pdf', 'yob1970.txt', 'yob1971.txt', 'yob1972.txt', 'yob1973.txt', 'yob1974.txt', 'yob1975.txt', 'yob1976.txt', 'yob1977.txt', 'yob1978.txt', 'yob1979.txt', 'yob1980.txt', 'yob1981.txt', 'yob1982.txt', 'yob1983.txt', 'yob1984.txt', 'yob1985.txt', 'yob1986.txt', 'yob1987.txt', 'yob1988.txt', 'yob1989.txt', 'yob1990.txt', 'yob1991.txt', 'yob1992.txt', 'yob1993.txt', 'yob1994.txt', 'yob1995.txt', 'yob1996.txt', 'yob1997.txt', 'yob1998.txt', 'yob1999.txt', 'yob2000.txt', 'yob2001.txt', 'yob2002.txt', 'yob2003.txt', 'yob2004.txt', 'yob2005.txt', 'yob2006.txt', 'yob2007.txt', 'yob2008.txt', 'yob2009.txt', 'yob2010.txt', 'yob2011.txt', 'yob2012.txt', 'yob2013.txt', 'yob2014.txt', 'yob2015.txt', 'yob2016.txt', 'yob2017.txt']\n"
     ]
    }
   ],
   "source": [
    "# Dependencies and Setup\n",
    "import matplotlib.pyplot as plt\n",
    "import pandas as pd\n",
    "import numpy as np\n",
    "import requests\n",
    "import time\n",
    "from pprint import pprint\n",
    "import datetime\n",
    "from scipy import stats\n",
    "import os\n",
    "\n",
    "\n",
    "print(os.listdir(\"Resources/names\"))"
   ]
  },
  {
   "cell_type": "code",
   "execution_count": 2,
   "metadata": {},
   "outputs": [],
   "source": [
    "year = []\n",
    "for filename in os.listdir(\"Resources/names\"):\n",
    "    if 'yob20' in filename:\n",
    "        namefile = pd.read_csv(f\"Resources/names/{filename}\",header=None)\n",
    "        namefile['year'] = os.path.splitext(filename)[0][-4:]\n",
    "        year.append(namefile)\n",
    "\n",
    "#data is in series, merge all years together\n",
    "df = pd.concat(year)"
   ]
  },
  {
   "cell_type": "code",
   "execution_count": 3,
   "metadata": {},
   "outputs": [
    {
     "data": {
      "text/html": [
       "<div>\n",
       "<style scoped>\n",
       "    .dataframe tbody tr th:only-of-type {\n",
       "        vertical-align: middle;\n",
       "    }\n",
       "\n",
       "    .dataframe tbody tr th {\n",
       "        vertical-align: top;\n",
       "    }\n",
       "\n",
       "    .dataframe thead th {\n",
       "        text-align: right;\n",
       "    }\n",
       "</style>\n",
       "<table border=\"1\" class=\"dataframe\">\n",
       "  <thead>\n",
       "    <tr style=\"text-align: right;\">\n",
       "      <th></th>\n",
       "      <th>0</th>\n",
       "      <th>1</th>\n",
       "      <th>2</th>\n",
       "      <th>year</th>\n",
       "    </tr>\n",
       "  </thead>\n",
       "  <tbody>\n",
       "    <tr>\n",
       "      <th>0</th>\n",
       "      <td>Emily</td>\n",
       "      <td>F</td>\n",
       "      <td>25953</td>\n",
       "      <td>2000</td>\n",
       "    </tr>\n",
       "    <tr>\n",
       "      <th>1</th>\n",
       "      <td>Hannah</td>\n",
       "      <td>F</td>\n",
       "      <td>23080</td>\n",
       "      <td>2000</td>\n",
       "    </tr>\n",
       "    <tr>\n",
       "      <th>2</th>\n",
       "      <td>Madison</td>\n",
       "      <td>F</td>\n",
       "      <td>19967</td>\n",
       "      <td>2000</td>\n",
       "    </tr>\n",
       "    <tr>\n",
       "      <th>3</th>\n",
       "      <td>Ashley</td>\n",
       "      <td>F</td>\n",
       "      <td>17997</td>\n",
       "      <td>2000</td>\n",
       "    </tr>\n",
       "    <tr>\n",
       "      <th>4</th>\n",
       "      <td>Sarah</td>\n",
       "      <td>F</td>\n",
       "      <td>17697</td>\n",
       "      <td>2000</td>\n",
       "    </tr>\n",
       "  </tbody>\n",
       "</table>\n",
       "</div>"
      ],
      "text/plain": [
       "         0  1      2  year\n",
       "0    Emily  F  25953  2000\n",
       "1   Hannah  F  23080  2000\n",
       "2  Madison  F  19967  2000\n",
       "3   Ashley  F  17997  2000\n",
       "4    Sarah  F  17697  2000"
      ]
     },
     "execution_count": 3,
     "metadata": {},
     "output_type": "execute_result"
    }
   ],
   "source": [
    "df.head()"
   ]
  },
  {
   "cell_type": "code",
   "execution_count": 4,
   "metadata": {},
   "outputs": [
    {
     "data": {
      "text/html": [
       "<div>\n",
       "<style scoped>\n",
       "    .dataframe tbody tr th:only-of-type {\n",
       "        vertical-align: middle;\n",
       "    }\n",
       "\n",
       "    .dataframe tbody tr th {\n",
       "        vertical-align: top;\n",
       "    }\n",
       "\n",
       "    .dataframe thead th {\n",
       "        text-align: right;\n",
       "    }\n",
       "</style>\n",
       "<table border=\"1\" class=\"dataframe\">\n",
       "  <thead>\n",
       "    <tr style=\"text-align: right;\">\n",
       "      <th></th>\n",
       "      <th>name</th>\n",
       "      <th>gender</th>\n",
       "      <th>count</th>\n",
       "      <th>year</th>\n",
       "    </tr>\n",
       "  </thead>\n",
       "  <tbody>\n",
       "    <tr>\n",
       "      <th>0</th>\n",
       "      <td>Emily</td>\n",
       "      <td>F</td>\n",
       "      <td>25953</td>\n",
       "      <td>2000</td>\n",
       "    </tr>\n",
       "    <tr>\n",
       "      <th>1</th>\n",
       "      <td>Hannah</td>\n",
       "      <td>F</td>\n",
       "      <td>23080</td>\n",
       "      <td>2000</td>\n",
       "    </tr>\n",
       "    <tr>\n",
       "      <th>2</th>\n",
       "      <td>Madison</td>\n",
       "      <td>F</td>\n",
       "      <td>19967</td>\n",
       "      <td>2000</td>\n",
       "    </tr>\n",
       "    <tr>\n",
       "      <th>3</th>\n",
       "      <td>Ashley</td>\n",
       "      <td>F</td>\n",
       "      <td>17997</td>\n",
       "      <td>2000</td>\n",
       "    </tr>\n",
       "    <tr>\n",
       "      <th>4</th>\n",
       "      <td>Sarah</td>\n",
       "      <td>F</td>\n",
       "      <td>17697</td>\n",
       "      <td>2000</td>\n",
       "    </tr>\n",
       "  </tbody>\n",
       "</table>\n",
       "</div>"
      ],
      "text/plain": [
       "      name gender  count  year\n",
       "0    Emily      F  25953  2000\n",
       "1   Hannah      F  23080  2000\n",
       "2  Madison      F  19967  2000\n",
       "3   Ashley      F  17997  2000\n",
       "4    Sarah      F  17697  2000"
      ]
     },
     "execution_count": 4,
     "metadata": {},
     "output_type": "execute_result"
    }
   ],
   "source": [
    "name_df = df.rename(columns={\n",
    "    0:'name',\n",
    "    1:'gender',\n",
    "    2:'count'\n",
    "})\n",
    "name_df.head()"
   ]
  },
  {
   "cell_type": "code",
   "execution_count": 5,
   "metadata": {},
   "outputs": [
    {
     "data": {
      "text/plain": [
       "name      object\n",
       "gender    object\n",
       "count      int64\n",
       "year      object\n",
       "dtype: object"
      ]
     },
     "execution_count": 5,
     "metadata": {},
     "output_type": "execute_result"
    }
   ],
   "source": [
    "name_df.dtypes"
   ]
  },
  {
   "cell_type": "code",
   "execution_count": 6,
   "metadata": {},
   "outputs": [],
   "source": [
    "#count of total babies born in the year\n",
    "yearTotal_df = name_df.groupby('year').sum().rename(columns={'count':'yearTotal'})"
   ]
  },
  {
   "cell_type": "code",
   "execution_count": 7,
   "metadata": {},
   "outputs": [
    {
     "data": {
      "text/html": [
       "<div>\n",
       "<style scoped>\n",
       "    .dataframe tbody tr th:only-of-type {\n",
       "        vertical-align: middle;\n",
       "    }\n",
       "\n",
       "    .dataframe tbody tr th {\n",
       "        vertical-align: top;\n",
       "    }\n",
       "\n",
       "    .dataframe thead th {\n",
       "        text-align: right;\n",
       "    }\n",
       "</style>\n",
       "<table border=\"1\" class=\"dataframe\">\n",
       "  <thead>\n",
       "    <tr style=\"text-align: right;\">\n",
       "      <th></th>\n",
       "      <th>yearTotal</th>\n",
       "    </tr>\n",
       "    <tr>\n",
       "      <th>year</th>\n",
       "      <th></th>\n",
       "    </tr>\n",
       "  </thead>\n",
       "  <tbody>\n",
       "    <tr>\n",
       "      <th>2000</th>\n",
       "      <td>3778079</td>\n",
       "    </tr>\n",
       "    <tr>\n",
       "      <th>2001</th>\n",
       "      <td>3741451</td>\n",
       "    </tr>\n",
       "    <tr>\n",
       "      <th>2002</th>\n",
       "      <td>3736042</td>\n",
       "    </tr>\n",
       "    <tr>\n",
       "      <th>2003</th>\n",
       "      <td>3799971</td>\n",
       "    </tr>\n",
       "    <tr>\n",
       "      <th>2004</th>\n",
       "      <td>3818361</td>\n",
       "    </tr>\n",
       "  </tbody>\n",
       "</table>\n",
       "</div>"
      ],
      "text/plain": [
       "      yearTotal\n",
       "year           \n",
       "2000    3778079\n",
       "2001    3741451\n",
       "2002    3736042\n",
       "2003    3799971\n",
       "2004    3818361"
      ]
     },
     "execution_count": 7,
     "metadata": {},
     "output_type": "execute_result"
    }
   ],
   "source": [
    "yearTotal_df.head()"
   ]
  },
  {
   "cell_type": "code",
   "execution_count": 8,
   "metadata": {},
   "outputs": [
    {
     "data": {
      "text/html": [
       "<div>\n",
       "<style scoped>\n",
       "    .dataframe tbody tr th:only-of-type {\n",
       "        vertical-align: middle;\n",
       "    }\n",
       "\n",
       "    .dataframe tbody tr th {\n",
       "        vertical-align: top;\n",
       "    }\n",
       "\n",
       "    .dataframe thead th {\n",
       "        text-align: right;\n",
       "    }\n",
       "</style>\n",
       "<table border=\"1\" class=\"dataframe\">\n",
       "  <thead>\n",
       "    <tr style=\"text-align: right;\">\n",
       "      <th></th>\n",
       "      <th>name</th>\n",
       "      <th>gender</th>\n",
       "      <th>count</th>\n",
       "      <th>year</th>\n",
       "      <th>yearTotal</th>\n",
       "    </tr>\n",
       "  </thead>\n",
       "  <tbody>\n",
       "    <tr>\n",
       "      <th>0</th>\n",
       "      <td>Emily</td>\n",
       "      <td>F</td>\n",
       "      <td>25953</td>\n",
       "      <td>2000</td>\n",
       "      <td>3778079</td>\n",
       "    </tr>\n",
       "    <tr>\n",
       "      <th>1</th>\n",
       "      <td>Hannah</td>\n",
       "      <td>F</td>\n",
       "      <td>23080</td>\n",
       "      <td>2000</td>\n",
       "      <td>3778079</td>\n",
       "    </tr>\n",
       "    <tr>\n",
       "      <th>2</th>\n",
       "      <td>Madison</td>\n",
       "      <td>F</td>\n",
       "      <td>19967</td>\n",
       "      <td>2000</td>\n",
       "      <td>3778079</td>\n",
       "    </tr>\n",
       "    <tr>\n",
       "      <th>3</th>\n",
       "      <td>Ashley</td>\n",
       "      <td>F</td>\n",
       "      <td>17997</td>\n",
       "      <td>2000</td>\n",
       "      <td>3778079</td>\n",
       "    </tr>\n",
       "    <tr>\n",
       "      <th>4</th>\n",
       "      <td>Sarah</td>\n",
       "      <td>F</td>\n",
       "      <td>17697</td>\n",
       "      <td>2000</td>\n",
       "      <td>3778079</td>\n",
       "    </tr>\n",
       "  </tbody>\n",
       "</table>\n",
       "</div>"
      ],
      "text/plain": [
       "      name gender  count  year  yearTotal\n",
       "0    Emily      F  25953  2000    3778079\n",
       "1   Hannah      F  23080  2000    3778079\n",
       "2  Madison      F  19967  2000    3778079\n",
       "3   Ashley      F  17997  2000    3778079\n",
       "4    Sarah      F  17697  2000    3778079"
      ]
     },
     "execution_count": 8,
     "metadata": {},
     "output_type": "execute_result"
    }
   ],
   "source": [
    "#merge total babies born in year and unique names\n",
    "name_df = name_df.merge(yearTotal_df,on='year')\n",
    "name_df.head()"
   ]
  },
  {
   "cell_type": "code",
   "execution_count": 9,
   "metadata": {},
   "outputs": [
    {
     "data": {
      "text/html": [
       "<div>\n",
       "<style scoped>\n",
       "    .dataframe tbody tr th:only-of-type {\n",
       "        vertical-align: middle;\n",
       "    }\n",
       "\n",
       "    .dataframe tbody tr th {\n",
       "        vertical-align: top;\n",
       "    }\n",
       "\n",
       "    .dataframe thead th {\n",
       "        text-align: right;\n",
       "    }\n",
       "</style>\n",
       "<table border=\"1\" class=\"dataframe\">\n",
       "  <thead>\n",
       "    <tr style=\"text-align: right;\">\n",
       "      <th></th>\n",
       "      <th>name</th>\n",
       "      <th>count</th>\n",
       "      <th>gender</th>\n",
       "      <th>year</th>\n",
       "    </tr>\n",
       "  </thead>\n",
       "  <tbody>\n",
       "    <tr>\n",
       "      <th>3741</th>\n",
       "      <td>Arya</td>\n",
       "      <td>34</td>\n",
       "      <td>F</td>\n",
       "      <td>2000</td>\n",
       "    </tr>\n",
       "    <tr>\n",
       "      <th>19792</th>\n",
       "      <td>Arya</td>\n",
       "      <td>47</td>\n",
       "      <td>M</td>\n",
       "      <td>2000</td>\n",
       "    </tr>\n",
       "    <tr>\n",
       "      <th>33408</th>\n",
       "      <td>Arya</td>\n",
       "      <td>36</td>\n",
       "      <td>F</td>\n",
       "      <td>2001</td>\n",
       "    </tr>\n",
       "    <tr>\n",
       "      <th>49889</th>\n",
       "      <td>Arya</td>\n",
       "      <td>48</td>\n",
       "      <td>M</td>\n",
       "      <td>2001</td>\n",
       "    </tr>\n",
       "    <tr>\n",
       "      <th>62818</th>\n",
       "      <td>Arya</td>\n",
       "      <td>54</td>\n",
       "      <td>F</td>\n",
       "      <td>2002</td>\n",
       "    </tr>\n",
       "  </tbody>\n",
       "</table>\n",
       "</div>"
      ],
      "text/plain": [
       "       name  count gender  year\n",
       "3741   Arya     34      F  2000\n",
       "19792  Arya     47      M  2000\n",
       "33408  Arya     36      F  2001\n",
       "49889  Arya     48      M  2001\n",
       "62818  Arya     54      F  2002"
      ]
     },
     "execution_count": 9,
     "metadata": {},
     "output_type": "execute_result"
    }
   ],
   "source": [
    "#Calculate % of name\n",
    "name_df['name_percent'] = 100*(name_df.loc[:,'count']/name_df.loc[:,'yearTotal'])\n",
    "name_df.head()\n",
    "\n",
    "arya_df = name_df[name_df['name']=='Arya'][['name','count','gender','year']]\n",
    "arya_df.head()"
   ]
  },
  {
   "cell_type": "code",
   "execution_count": 28,
   "metadata": {},
   "outputs": [
    {
     "data": {
      "image/png": "[encoded data removed]",
      "text/plain": [
       "<Figure size 432x288 with 1 Axes>"
      ]
     },
     "metadata": {
      "needs_background": "light"
     },
     "output_type": "display_data"
    }
   ],
   "source": [
    "#set male and female dataframe\n",
    "arya_f_df = arya_df[arya_df['gender']=='F'].copy().sort_values('year')\n",
    "arya_m_df = arya_df[arya_df['gender']=='M'].copy().sort_values('year')\n",
    "arya_m_plot = plt.plot(arya_m_df['year'],arya_m_df['count'],c='g',marker='o',label='Arya : M')\n",
    "arya_f_plot = plt.plot(arya_f_df['year'],arya_f_df['count'],c='b',marker='o',label='Arya : F')\n",
    "plt.xticks(rotation=45)\n",
    "plt.grid()\n",
    "plt.title(\"Popularity of Name for ARYA - Male vs Female(US)\")\n",
    "plt.ylabel(\"Name Count\")\n",
    "plt.legend()\n",
    "plt.savefig(\"Graph_Images/GoT/arya_male_vs_female.png\")"
   ]
  },
  {
   "cell_type": "code",
   "execution_count": null,
   "metadata": {},
   "outputs": [],
   "source": [
    "#regression\n",
    "slope, intercept, r_value, p_value, std_err = stats.linregress(arya_f_df['year'].astype(int),arya_f_df['count'])\n",
    "print(f\"female regression: {p_value}\")"
   ]
  },
  {
   "cell_type": "code",
   "execution_count": null,
   "metadata": {},
   "outputs": [],
   "source": [
    "slope, intercept, r_value, p_value, std_err = stats.linregress(arya_m_df['year'].astype(int),arya_m_df['count'])\n",
    "print(f\"male regression: {p_value}\")"
   ]
  },
  {
   "cell_type": "code",
   "execution_count": null,
   "metadata": {},
   "outputs": [],
   "source": [
    "#Get top 5 female names in year 2011\n",
    "female_y2011 = name_df[(name_df['gender']=='F') & (name_df['year']=='2011')] \n",
    "female_y2011 = female_y2011.sort_values('count',ascending=False)\n",
    "female_y2011['rank'] = female_y2011['name_percent'].rank(ascending=False)\n",
    "female_y2011.head(10)"
   ]
  },
  {
   "cell_type": "code",
   "execution_count": null,
   "metadata": {},
   "outputs": [],
   "source": [
    "#Rank 2017 females\n",
    "female_y2017 = name_df[(name_df['gender']=='F') & (name_df['year']=='2017')] \n",
    "female_y2017 = female_y2017.sort_values('count',ascending=False)\n",
    "female_y2017['rank'] = female_y2017['name_percent'].rank(ascending=False)\n",
    "female_y2017.head(10)"
   ]
  },
  {
   "cell_type": "code",
   "execution_count": null,
   "metadata": {},
   "outputs": [],
   "source": [
    "#merge 2011 vs 2017\n",
    "merge_female = female_y2011.merge(female_y2017,on='name',suffixes=('_y2011','_y2017'))\n",
    "merge_female['rankChange'] = merge_female['rank_y2017'] - merge_female['rank_y2011']\n",
    "merge_female['percentChange'] = merge_female['name_percent_y2017'] - merge_female['name_percent_y2011']\n",
    "merge_female['countChange'] = merge_female['count_y2017'] - merge_female['count_y2011']\n",
    "merge_female.head(10)"
   ]
  },
  {
   "cell_type": "code",
   "execution_count": null,
   "metadata": {},
   "outputs": [],
   "source": [
    "#dataframe for top 5 and top 10 Y2011 females only\n",
    "top5_df = merge_female.head(5)\n",
    "\n",
    "top10_df = merge_female.head(10)\n",
    "top10_df"
   ]
  },
  {
   "cell_type": "code",
   "execution_count": null,
   "metadata": {},
   "outputs": [],
   "source": [
    "#set color for positive and negative change\n",
    "\n",
    "percentChanges = []\n",
    "percentChanges = top10_df['percentChange']\n",
    "\n",
    "colors = []\n",
    "for value in range(0,len(top10_df)):\n",
    "    if percentChanges[value] < 0:\n",
    "        colors.append('red')\n",
    "    else:\n",
    "        colors.append('green')\n",
    "colors"
   ]
  },
  {
   "cell_type": "code",
   "execution_count": null,
   "metadata": {},
   "outputs": [],
   "source": [
    "percentChanges"
   ]
  },
  {
   "cell_type": "code",
   "execution_count": null,
   "metadata": {},
   "outputs": [],
   "source": [
    "# Orient widths. Add labels, tick marks, etc. \n",
    "plt.figure(figsize=(10,3.5))\n",
    "barchart = plt.bar(top10_df['name'],height=percentChanges,color=colors,width=0.7,edgecolor='black')\n",
    "plt.xticks(rotation=45)\n",
    "plt.tight_layout()\n",
    "plt.hlines(0,-1,10,alpha=0.75)\n",
    "plt.title('Top 10 Female Names Change from 2011 vs 2017')\n",
    "plt.ylabel('Change in %')\n",
    "plt.xlabel('Top 10 Female Names')\n",
    "\n",
    "# Use functions to label the percentages of changes\n",
    "def makeLabel(barchart):\n",
    "    for value in barchart:\n",
    "        plt.text(x=value.get_x()+0.1,y=value.get_height()/2,s=round((value.get_height()),2))\n",
    "\n",
    "# Call functions to implement the function calls\n",
    "makeLabel(barchart)\n",
    "\n",
    "# Save figure\n",
    "plt.savefig(\"Graph_Images/GoT/Top10Female_Change.png\")\n",
    "\n",
    "# Show the Figure\n",
    "plt.show()"
   ]
  },
  {
   "cell_type": "code",
   "execution_count": null,
   "metadata": {},
   "outputs": [],
   "source": [
    "#Find names from 2011\n",
    "#Arya (aka Arya Stark): Noble\n",
    "#Arianne (aka Arianne Martell): Very holy one\n",
    "#Asha (aka Asha Greyjoy): Life\n",
    "#Brienne (aka Brienne of Tarth): Strong\n",
    "#Catelyn (aka Cat Stark): Pure\n",
    "#Cersei (aka Cersei Lannister): Enchantress\n",
    "#Daenerys (aka Daenerys Targaryen): Born of the storm\n",
    "#Ella (aka Ellaria Sand): Beautiful fairy\n",
    "#Elia (aka Elia Sand): Jehovah is God\n",
    "#Gilly (aka Gilly Craster): My joy\n",
    "\n",
    "got_top10 = ['Arya','Arianne','Asha','Brienne','Catelyn','Cersei','Daenerys','Ella','Elia','Gilly']\n",
    "got_female_df = merge_female.loc[merge_female['name'].isin(got_top10)]\n",
    "got_female_df = got_female_df[['name','rank_y2011','name_percent_y2011','rank_y2017','name_percent_y2017','rankChange','percentChange','countChange']]\n",
    "got_female_df = got_female_df.reset_index()        \n",
    "\n"
   ]
  },
  {
   "cell_type": "code",
   "execution_count": null,
   "metadata": {},
   "outputs": [],
   "source": [
    "got_female_df"
   ]
  },
  {
   "cell_type": "code",
   "execution_count": null,
   "metadata": {},
   "outputs": [],
   "source": [
    "#set color for positive and negative change\n",
    "\n",
    "percentChanges = []\n",
    "percentChanges = got_female_df['percentChange']\n",
    "\n",
    "colors = []\n",
    "for value in range(0,len(percentChanges)):\n",
    "    if percentChanges[value] < 0:\n",
    "        colors.append('red')\n",
    "    else:\n",
    "        colors.append('green')\n",
    "\n",
    "\n",
    "# Orient widths. Add labels, tick marks, etc. \n",
    "plt.figure(figsize=(10,3.5))\n",
    "barchart = plt.bar(got_female_df['name'],height=percentChanges,color=colors,width=0.7,edgecolor='black')\n",
    "plt.xticks(rotation=45)\n",
    "plt.tight_layout()\n",
    "plt.hlines(0,-1,6,alpha=0.75)\n",
    "plt.title('Top 10 GOT Female Names Change from 2011 vs 2017')\n",
    "plt.ylabel('Change in %')\n",
    "plt.xlabel('Top 10 GOT Female Names')\n",
    "\n",
    "# Use functions to label the percentages of changes\n",
    "def makeLabel(barchart):\n",
    "    for value in barchart:\n",
    "        plt.text(x=value.get_x()+0.1,y=value.get_height()/2,s=round((value.get_height()),4))\n",
    "\n",
    "# Call functions to implement the function calls\n",
    "makeLabel(barchart)\n",
    "\n",
    "# Save figure\n",
    "plt.savefig(\"Graph_Images/GoT/Top10GOTFemale_Change.png\")\n",
    "\n",
    "# Show the Figure\n",
    "plt.show()\n"
   ]
  },
  {
   "cell_type": "code",
   "execution_count": null,
   "metadata": {},
   "outputs": [],
   "source": [
    "merge_female.dtypes"
   ]
  },
  {
   "cell_type": "code",
   "execution_count": null,
   "metadata": {},
   "outputs": [],
   "source": [
    "#rank of Arya index = 713\n",
    "\n",
    "similar_df = merge_female.iloc[710:717]\n",
    "similar_df"
   ]
  },
  {
   "cell_type": "code",
   "execution_count": null,
   "metadata": {},
   "outputs": [],
   "source": []
  },
  {
   "cell_type": "code",
   "execution_count": null,
   "metadata": {},
   "outputs": [],
   "source": [
    "#set color for positive and negative change\n",
    "\n",
    "countChanges_1 = []\n",
    "countChanges_1 = similar_df['countChange']\n",
    "\n",
    "colors_1 = []\n",
    "for value in countChanges_1:\n",
    "    print(value)\n",
    "    if value < 0:\n",
    "        colors_1.append('red')\n",
    "    else:\n",
    "        colors_1.append('green')\n",
    "\n",
    "\n"
   ]
  },
  {
   "cell_type": "code",
   "execution_count": null,
   "metadata": {},
   "outputs": [],
   "source": [
    "\n",
    "# Orient widths. Add labels, tick marks, etc. \n",
    "plt.figure(figsize=(10,3.5))\n",
    "barchart = plt.bar(similar_df['name'],height=countChanges_1,color=colors_1,width=0.7,edgecolor='black')\n",
    "plt.xticks(rotation=45)\n",
    "plt.tight_layout()\n",
    "plt.hlines(0,-1,6,alpha=0.75)\n",
    "plt.title('Similar Ranked Female Names Change from 2011 vs 2017')\n",
    "plt.ylabel('Change in Count')\n",
    "plt.xlabel('Similar Ranked Female Names')\n",
    "\n",
    "# Use functions to label the percentages of changes\n",
    "def makeLabel(barchart):\n",
    "    for value in barchart:\n",
    "        plt.text(x=value.get_x()+0.1,y=value.get_height()/2,s=round((value.get_height()),4))\n",
    "\n",
    "# Call functions to implement the function calls\n",
    "makeLabel(barchart)\n",
    "\n",
    "# Save figure\n",
    "plt.savefig(\"Graph_Images/GoT/SimilarRankedFemales_Change.png\")\n",
    "\n",
    "# Show the Figure\n",
    "plt.show()"
   ]
  },
  {
   "cell_type": "code",
   "execution_count": null,
   "metadata": {},
   "outputs": [],
   "source": [
    "#average % change\n",
    "print(f\"Y2011 average: {merge_female['name_percent_y2011'].mean()}, Y2017 average: {merge_female['name_percent_y2017'].mean()}\")\n",
    "print(f\"percent mean change: {merge_female['percentChange'].mean()}\")\n"
   ]
  },
  {
   "cell_type": "code",
   "execution_count": null,
   "metadata": {},
   "outputs": [],
   "source": [
    "#Average of all other names\n",
    "female_other = ['Jaylin','Ali','Taliyah','Emilie','Destinee','Jaida']\n",
    "other_df = merge_female.loc[merge_female['name'].isin(female_other)]\n",
    "avg_y2011 = other_df['name_percent_y2011'].mean()\n",
    "avg_y2017 = other_df['name_percent_y2017'].mean()\n",
    "arya_y2011 = merge_female.loc[merge_female['name']=='Arya']['name_percent_y2011'].sum()\n",
    "arya_y2017 = merge_female[merge_female['name']=='Arya']['name_percent_y2017'].sum()\n",
    "print(f\"avg of percent change in 2011: {avg_y2011}, avg of percent change in 2017: {avg_y2017}\")\n",
    "print(f\"arya 2011: {arya_y2011}, arya in 2017: {arya_y2017}\")"
   ]
  },
  {
   "cell_type": "code",
   "execution_count": null,
   "metadata": {},
   "outputs": [],
   "source": [
    "#create 2 x 2 for fisher exact\n",
    "stat_df1 = pd.DataFrame([[avg_y2011],[avg_y2017]]).T\n",
    "stat_df2 = pd.DataFrame([[arya_y2011],[arya_y2017]]).T\n",
    "stat_df = pd.concat([stat_df1,stat_df2])\n",
    "stat_df"
   ]
  },
  {
   "cell_type": "code",
   "execution_count": null,
   "metadata": {},
   "outputs": [],
   "source": [
    "sim_names = [x for x in set(similar_df[\"name\"]) if x not in [\"Arya\"]]"
   ]
  },
  {
   "cell_type": "code",
   "execution_count": null,
   "metadata": {},
   "outputs": [],
   "source": [
    "sim_names"
   ]
  },
  {
   "cell_type": "code",
   "execution_count": null,
   "metadata": {},
   "outputs": [],
   "source": [
    "df_other_attempt = pd.DataFrame(similar_df[similar_df[\"name\"].isin(sim_names)])\n",
    "arya_only_df = similar_df[similar_df[\"name\"] == \"Arya\"]\n",
    "df_other_attempt[\"observed\"] = df_other_attempt[\"count_y2017\"] - df_other_attempt[\"count_y2011\"]\n",
    "df_other_attempt[\"expected\"] = (arya_only_df[\"count_y2017\"] - arya_only_df[\"count_y2011\"]).values[0]"
   ]
  },
  {
   "cell_type": "code",
   "execution_count": null,
   "metadata": {},
   "outputs": [],
   "source": [
    "df_other_attempt[[\"name\", \"observed\", \"expected\"]]"
   ]
  },
  {
   "cell_type": "code",
   "execution_count": null,
   "metadata": {},
   "outputs": [],
   "source": [
    "# Run the chi square test with stats.chisquare()\n",
    "stats.chisquare(df_other_attempt['observed'], df_other_attempt['expected'])"
   ]
  },
  {
   "cell_type": "code",
   "execution_count": null,
   "metadata": {},
   "outputs": [],
   "source": [
    "# chi-square\n",
    "# Observed data in a (hypothetical) survey of 6000 people \n",
    "observed = observed = pd.Series([], index=[\"1\", \"2\", \"3\", \"4\", \"5\", \"6\"])\n",
    "\n",
    "# Create a data frame\n",
    "df = pd.DataFrame([observed]).T\n",
    "\n",
    "# Add a column whose default values are the expected values\n",
    "df[1] = .0502\n",
    "\n",
    "# Rename the columns\n",
    "df.columns = [\"observed\", \"expected\"]\n",
    "\n",
    "# View the data frame\n",
    "df"
   ]
  },
  {
   "cell_type": "code",
   "execution_count": null,
   "metadata": {},
   "outputs": [],
   "source": [
    "df_normalized = df * 100"
   ]
  },
  {
   "cell_type": "code",
   "execution_count": null,
   "metadata": {},
   "outputs": [],
   "source": [
    "critical_value = stats.chi2.ppf(q = 0.95, df = 5)"
   ]
  },
  {
   "cell_type": "code",
   "execution_count": null,
   "metadata": {},
   "outputs": [],
   "source": [
    "# Run the chi square test with stats.chisquare()\n",
    "stats.chisquare(df_normalized['observed'], df_normalized['expected'])"
   ]
  },
  {
   "cell_type": "code",
   "execution_count": null,
   "metadata": {},
   "outputs": [],
   "source": [
    "# Run the chi square test with stats.chisquare()\n",
    "oddsratio, pvalue = stats.fisher_exact([[0.010597,0.005823],[0.010597,0.060796]])\n",
    "pvalue"
   ]
  },
  {
   "cell_type": "code",
   "execution_count": null,
   "metadata": {},
   "outputs": [],
   "source": [
    "a = [[15 * 1000, 14 * 1000], [11 * 1000, 12 * 1000]]"
   ]
  },
  {
   "cell_type": "code",
   "execution_count": null,
   "metadata": {},
   "outputs": [],
   "source": [
    "stats.fisher_exact(a)"
   ]
  }
 ],
 "metadata": {
  "kernelspec": {
   "display_name": "Python 3",
   "language": "python",
   "name": "python3"
  },
  "language_info": {
   "codemirror_mode": {
    "name": "ipython",
    "version": 3
   },
   "file_extension": ".py",
   "mimetype": "text/x-python",
   "name": "python",
   "nbconvert_exporter": "python",
   "pygments_lexer": "ipython3",
   "version": "3.6.8"
  }
 },
 "nbformat": 4,
 "nbformat_minor": 2
}
